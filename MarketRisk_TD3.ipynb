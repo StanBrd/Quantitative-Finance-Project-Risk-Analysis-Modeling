{
  "nbformat": 4,
  "nbformat_minor": 0,
  "metadata": {
    "colab": {
      "provenance": []
    },
    "kernelspec": {
      "name": "python3",
      "display_name": "Python 3"
    },
    "language_info": {
      "name": "python"
    }
  },
  "cells": [
    {
      "cell_type": "code",
      "execution_count": null,
      "metadata": {
        "id": "Xf1uBhSl7zoF"
      },
      "outputs": [],
      "source": [
        "import yfinance as yf\n",
        "import pandas as pd\n",
        "\n",
        "with open('/content/sample_data/Natixis stock (dataset TD1&2).txt', 'r') as file:\n",
        "  lines = file.readlines()\n",
        "\n",
        "\n",
        "dates =[]\n",
        "prices = []\n",
        "\n",
        "for line in lines:\n",
        "  line=line.strip()\n",
        "  if line:\n",
        "    date,price= line.split('\\t')\n",
        "    dates.append(date)\n",
        "    prices.append(price)\n",
        "\n",
        "d = {'Date':dates, 'Price':prices}\n",
        "df=pd.DataFrame(d)\n",
        "\n",
        "df['Price']= df['Price'].str.replace(',','.').astype(float)\n",
        "df['Date'] = pd.to_datetime(df['Date'], format='%d/%m/%Y')\n",
        "df.set_index('Date', inplace=True)\n",
        "\n",
        "returns =[]\n",
        "for i in range(1,len(df)):\n",
        "  price_yesterday= df['Price'][i-1]\n",
        "  price_today = df['Price'][i]\n",
        "  returns.append((price_today-price_yesterday)/price_yesterday)\n",
        "\n",
        "df['Price Returns'] =  [None] + returns\n",
        "df = df.iloc[1:]"
      ]
    },
    {
      "cell_type": "markdown",
      "source": [
        "Calculons la GEV avec l'estimateur de Pickands ![image.png](data:image/png;base64,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)"
      ],
      "metadata": {
        "id": "-wEPwyRrWwx7"
      }
    },
    {
      "cell_type": "markdown",
      "source": [
        "Pour la foncton k(n) on prends log qui verifie bien les conditions pour l'estimateur de pickands."
      ],
      "metadata": {
        "id": "i8mzGr-AXDgD"
      }
    },
    {
      "cell_type": "code",
      "source": [
        "import math as m\n",
        "import numpy as np\n",
        "\n",
        "sorted_returns = df.sort_values(by='Price Returns', ascending=True)\n",
        "returns_negative= sorted_returns[sorted_returns['Price Returns']<0]*(-1) # On prends la queue de distribution des pertes, on multiplie par -1 pr les avoirs en positif\n",
        "returns_negative = returns_negative.sort_values(by='Price Returns', ascending=True)\n",
        "\n",
        "returns_positive= sorted_returns[sorted_returns['Price Returns'] > 0]\n",
        "\n",
        "\n",
        "def estimateur_pickands(return_sort):\n",
        "  n = len(return_sort)#revoir les indexs\n",
        "  index_1 = n - int(np.log(n))+1\n",
        "  index_2 = n - int(2 * np.log(n))+1\n",
        "  index_4 = n - int(4 * np.log(n))+1\n",
        "\n",
        "  pickands = (1 / np.log(2)) * np.log((return_sort.iloc[index_1]['Price Returns'] - return_sort.iloc[index_2]['Price Returns'])\n",
        "  / (return_sort.iloc[index_2]['Price Returns'] - return_sort.iloc[index_4]['Price Returns']))\n",
        "\n",
        "  return pickands\n",
        "\n",
        "gev_rend_positive = estimateur_pickands(returns_positive)\n",
        "gev_rend_neg = estimateur_pickands(returns_negative)\n",
        "\n",
        "print(\"GEV Paremeters for positive returns : \", gev_rend_positive)\n",
        "print(\"GEV Parameters for negative returns : \", gev_rend_neg)"
      ],
      "metadata": {
        "colab": {
          "base_uri": "https://localhost:8080/"
        },
        "id": "bZ-E9g_ISoye",
        "outputId": "4321f13a-c7bc-4fdd-f9c7-e7cb154b9eab"
      },
      "execution_count": null,
      "outputs": [
        {
          "output_type": "stream",
          "name": "stdout",
          "text": [
            "GEV Paremeters for positive returns :  0.7031608888285327\n",
            "GEV Parameters for negative returns :  -0.5025788568345055\n"
          ]
        }
      ]
    },
    {
      "cell_type": "markdown",
      "source": [
        "**Question 2**"
      ],
      "metadata": {
        "id": "GCKmpYYDXKQH"
      }
    },
    {
      "cell_type": "code",
      "source": [
        "def Var_EVT(r,esti,alpha,k=1):\n",
        "  n=len(r)\n",
        "  A=(k/(n*(1-alpha)))**esti - 1\n",
        "  B=(1 - 2**-esti)\n",
        "  return (A/B)*(r[n-k-1]- r[n-2*k-1])+r[n-k-1]\n",
        "\n",
        "VaR_EVT_Pickands2= Var_EVT(returns_negative['Price Returns'],gev_rend_positive,0.80)\n",
        "print(\"\\n The VaR EVT for Pickands with 80% condifence for negative returns is : \",VaR_EVT_Pickands2)\n",
        "\n",
        "VaR_EVT_Pickands4= Var_EVT(returns_negative['Price Returns'],gev_rend_positive,0.90)\n",
        "print(\"\\n The VaR EVT for Pickands with 90% condifence for negative returns is : \",VaR_EVT_Pickands4)\n",
        "\n",
        "VaR_EVT_Pickands= Var_EVT(returns_negative['Price Returns'],gev_rend_positive,0.95)\n",
        "print(\"\\n The VaR EVT for Pickands with 95% condifence for negative returns is : \",VaR_EVT_Pickands)\n",
        "\n",
        "VaR_EVT_Pickands3= Var_EVT(returns_negative['Price Returns'],gev_rend_positive,0.99)\n",
        "print(\"\\n The VaR EVT for Pickands with 99% condifence for negative returns is : \",VaR_EVT_Pickands3)\n"
      ],
      "metadata": {
        "colab": {
          "base_uri": "https://localhost:8080/"
        },
        "id": "bf7-upeWWwdi",
        "outputId": "4a65a058-0ffa-4644-d3b7-571cadd483ad"
      },
      "execution_count": null,
      "outputs": [
        {
          "output_type": "stream",
          "name": "stdout",
          "text": [
            "\n",
            " The VaR EVT for Pickands with 80% condifence for negative returns is :  0.05473470769955061\n",
            "\n",
            " The VaR EVT for Pickands with 90% condifence for negative returns is :  0.05509283170307416\n",
            "\n",
            " The VaR EVT for Pickands with 95% condifence for negative returns is :  0.05567588190515239\n",
            "\n",
            " The VaR EVT for Pickands with 99% condifence for negative returns is :  0.05885113345175085\n"
          ]
        }
      ]
    }
  ]
}